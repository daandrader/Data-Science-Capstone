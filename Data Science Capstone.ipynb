{
    "nbformat_minor": 1, 
    "cells": [
        {
            "source": "# Exploring Bogota venues across all neighborhoods using the Foursquare API - IBM Data Science Capstone project\n", 
            "cell_type": "markdown", 
            "metadata": {
                "collapsed": true
            }
        }, 
        {
            "source": "## 1. Description of the problem and the background", 
            "cell_type": "markdown", 
            "metadata": {}
        }, 
        {
            "source": "In this project an analisys of the Bogota neighborhoods, capital city of Colombia (South America) would be done based in the venues present across all neighborhoods at the present date using the foursquare [API](https://developer.foursquare.com/). The main idea is to explore most of the foursquare registered venues, identifing its category, location and possibles relations among other venues in the same neighborhood. Bogota it is know as one of the biggest city in Latin America with almost 7.200.000 inhabitants and it is in the 6th place in population across all the region.\nUsing the theory and tecniques reviewed in the course it would be possible to identify if certain neighborhood its mostly an industrial place or a office place, in other words identify what venue category correspond to each neighborhood as well as identify the top 10 most common venues for each neighborhood. Which could for interest for someone that has the idea to open a new venue. This information could be valuable in finding the best place for open certain venues.    \n\nBogota has an area of 1775 km$^2$ in wich almost 1800 small neighborhoods exists aranged in 20 boroughs each one know as locality. Something particular happends in Bogota as its a constantly growing city, some periferical areas of the city are invaded for people looking for a place to live. More and more people come to this places until its big enough to be called a neiborhood, but for that it has to be legalizated to the correspond local autorities, until that happends those neighborhoods are know as non legalized neighborhoods. Some information about those places are avaible and it will be included in the present analisys.  \n\nThese kind of analisys are also valuable as it give us the notion of how the city its organized in terms of its venues and it could be used for the local autorities in the implementation of better territorial arrangement planning, allowing the sustainable development of the city.", 
            "cell_type": "markdown", 
            "metadata": {}
        }, 
        {
            "source": "## 2. Data description and how it would be used", 
            "cell_type": "markdown", 
            "metadata": {}
        }, 
        {
            "source": "The data to be used in this project is adquired from a [local goverment site](https://mapas.bogota.gov.co/) which contains information and data for most of the local features of the city such as name, number of neighborhood, coordinates, number of inhabitants among other data. It is a great site to get local data and information and it is part of an effort of the Colombian goverment to provide open data of interest, all the data contained in this site could be exported as csv file. In particular the data for this project has the following structure:\n\n| OBJECTID\t| Locality Code\t| Locality\t| Legal Status | Neighborhood | Code | Latitude\t| Longitude|\n|-----------|---------------|-----------|--------------|--------------|------|----------|----------|\n\nWhich contains information about the locality, all the neighborhoods in each locality as well as it geospacial location. As metion before some neighborhoods could be clasified as legalized or not, these information is also avaible in this dataset.  \n\nHaving the location of each neighborhood (latitude and longitud) it is possible to adquire all the correspond venues using the Foursquare API. These information is the base of the analisys that will be done in the current project. Once all the venues information is adquiered and cleaned, the neighborhoods will be clustered according with the similarities with the venues using the machine learning algorithm of k-means. Acoording with the results a respective analisys and comments will be done.\n\n", 
            "cell_type": "markdown", 
            "metadata": {}
        }, 
        {
            "execution_count": null, 
            "cell_type": "code", 
            "metadata": {}, 
            "outputs": [], 
            "source": ""
        }
    ], 
    "metadata": {
        "kernelspec": {
            "display_name": "Python 3.6", 
            "name": "python3", 
            "language": "python"
        }, 
        "language_info": {
            "mimetype": "text/x-python", 
            "nbconvert_exporter": "python", 
            "version": "3.6.8", 
            "name": "python", 
            "file_extension": ".py", 
            "pygments_lexer": "ipython3", 
            "codemirror_mode": {
                "version": 3, 
                "name": "ipython"
            }
        }
    }, 
    "nbformat": 4
}