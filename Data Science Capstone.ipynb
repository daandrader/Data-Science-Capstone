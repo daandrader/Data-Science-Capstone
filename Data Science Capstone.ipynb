{
    "nbformat_minor": 1, 
    "cells": [
        {
            "source": "# Exploring Bogota venues acroos all neighborhoods using the Foursquare API - IBM Data Science Capstone project\n", 
            "cell_type": "markdown", 
            "metadata": {
                "collapsed": true
            }
        }, 
        {
            "source": "## 1. Description of the problem and the background", 
            "cell_type": "markdown", 
            "metadata": {}
        }, 
        {
            "source": "In this project an analisys of the Bogota neighborhoods, capital city of Colombia (South America) would be done based in the venues present across all neighborhoods at the present date using the foursquare [API](https://developer.foursquare.com/). The main idea is to explore most of the foursquare registered venues, identifing its category, location and possibles relations among other venues in the same neighborhood. Bogota it is know as one of the biggest city in Latin America with almost 7.200.000 inhabitants and it is in the 6th place in population in all the region.\nUsing the theory and tecniques reviewed in the course it would be possible to identify if certain neighborhood its mostly an industrial place or a office place, in other words identify what veneu category correspond to each neighborhood as well as identify the top 10 most common venues for each neighborhood. Which could for interest for someone that has the idea to open a new venue. This information    \nBogota has an area of 1775 km$^2$ in wich almost 1800 small neighborhoods exists aranged in 20 borougs each one know as locality", 
            "cell_type": "markdown", 
            "metadata": {}
        }, 
        {
            "source": "## 2. Data description and how it would be used", 
            "cell_type": "markdown", 
            "metadata": {}
        }, 
        {
            "source": "[link](https://mapas.bogota.gov.co/) ", 
            "cell_type": "markdown", 
            "metadata": {}
        }, 
        {
            "execution_count": null, 
            "cell_type": "code", 
            "metadata": {}, 
            "outputs": [], 
            "source": ""
        }
    ], 
    "metadata": {
        "kernelspec": {
            "display_name": "Python 3.6", 
            "name": "python3", 
            "language": "python"
        }, 
        "language_info": {
            "mimetype": "text/x-python", 
            "nbconvert_exporter": "python", 
            "version": "3.6.8", 
            "name": "python", 
            "file_extension": ".py", 
            "pygments_lexer": "ipython3", 
            "codemirror_mode": {
                "version": 3, 
                "name": "ipython"
            }
        }
    }, 
    "nbformat": 4
}